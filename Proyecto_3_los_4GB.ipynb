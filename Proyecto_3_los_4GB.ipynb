{
 "cells": [
  {
   "attachments": {},
   "cell_type": "markdown",
   "metadata": {},
   "source": [
    "<a href=\"https://githubtocolab.com/Astolfo2332/Biosenales_el_regreso/blob/main/Proyecto_3_los_4GB.ipynb\"\n",
    "    target=\"_parent\"><img src=\"https://colab.research.google.com/assets/colab-badge.svg\" alt=\"Open in Colab\" /></a>"
   ]
  },
  {
   "attachments": {},
   "cell_type": "markdown",
   "metadata": {},
   "source": [
    "# Proyecto 3"
   ]
  },
  {
   "attachments": {},
   "cell_type": "markdown",
   "metadata": {},
   "source": [
    "4 GB de audio no es nada"
   ]
  },
  {
   "attachments": {},
   "cell_type": "markdown",
   "metadata": {},
   "source": [
    "## Descarga de Kaggel"
   ]
  },
  {
   "attachments": {},
   "cell_type": "markdown",
   "metadata": {},
   "source": [
    "Aqui mete el json de kaggle"
   ]
  },
  {
   "cell_type": "code",
   "execution_count": null,
   "metadata": {},
   "outputs": [],
   "source": [
    "from google.colab import files\n",
    "\n",
    "files.upload()\n"
   ]
  },
  {
   "cell_type": "code",
   "execution_count": null,
   "metadata": {},
   "outputs": [],
   "source": [
    "!mkdir - p ~/.kaggle\n",
    "!cp kaggle.json ~/.kaggle/\n",
    "'chmod 600 /root/.kaggle/kaggle.json'  # Para proteger la información\n"
   ]
  },
  {
   "cell_type": "code",
   "execution_count": null,
   "metadata": {},
   "outputs": [],
   "source": [
    "!kaggle datasets download - d vbookshelf/respiratory-sound-database\n",
    "! unzip respiratory-sound-database.zip\n"
   ]
  },
  {
   "attachments": {},
   "cell_type": "markdown",
   "metadata": {},
   "source": [
    "La mousque herramienta misteriosa"
   ]
  },
  {
   "cell_type": "code",
   "execution_count": null,
   "metadata": {},
   "outputs": [],
   "source": [
    "!wget https://github.com/Astolfo2332/Biosenales_el_regreso/blob/main/special_fun.py\n",
    "!wget https://github.com/Astolfo2332/Biosenales_el_regreso/blob/main/LinearFIR.py"
   ]
  },
  {
   "attachments": {},
   "cell_type": "markdown",
   "metadata": {},
   "source": [
    "\n",
    "# 1 El análisis"
   ]
  },
  {
   "cell_type": "code",
   "execution_count": 1,
   "metadata": {},
   "outputs": [],
   "source": [
    "import librosa\n",
    "import pywt\n",
    "import librosa.display\n",
    "import scipy as sp\n",
    "import numpy as np\n",
    "#libreria para graficar\n",
    "import matplotlib.pyplot as plt\n",
    "#Lector de archivos csv\n",
    "from csv import reader as reader_csv;\n",
    "import scipy.signal as signal;\n",
    "import spacy\n",
    "import scipy.io as sio\n",
    "import scipy.stats as stats\n",
    "from sympy import symbols\n",
    "import os\n",
    "import sympy as sym\n",
    "import pandas as pd\n",
    "from statsmodels.stats.diagnostic import lilliefors\n",
    "from scipy.stats import mannwhitneyu\n",
    "from scipy.stats import levene\n",
    "import pingouin as pg\n",
    "import special_fun as s\n",
    "from LinearFIR import filter_design, mfreqz"
   ]
  },
  {
   "attachments": {},
   "cell_type": "markdown",
   "metadata": {},
   "source": [
    "## 1.1 Carga"
   ]
  },
  {
   "cell_type": "code",
   "execution_count": 2,
   "metadata": {},
   "outputs": [],
   "source": [
    "ruta_carpeta = './Data/audio_and_txt_files'\n",
    "lista_archivos = os.listdir(ruta_carpeta)\n",
    "datos_sano,datos_crepitancia,datos_silbancia=s.el_discriminador(lista_archivos,ruta_carpeta)"
   ]
  },
  {
   "cell_type": "code",
   "execution_count": 3,
   "metadata": {},
   "outputs": [
    {
     "name": "stdout",
     "output_type": "stream",
     "text": [
      "Pacientes sanos:  287\n",
      "Pacientes silbancias:  499\n",
      "Pacientes crepitancias:  134\n"
     ]
    }
   ],
   "source": [
    "print(\"Pacientes sanos: \",len(datos_sano))\n",
    "print(\"Pacientes silbancias: \",len(datos_crepitancia))\n",
    "print(\"Pacientes crepitancias: \",len(datos_silbancia))"
   ]
  },
  {
   "attachments": {},
   "cell_type": "markdown",
   "metadata": {},
   "source": [
    "## Obtención de los audios"
   ]
  },
  {
   "cell_type": "code",
   "execution_count": 4,
   "metadata": {},
   "outputs": [],
   "source": [
    "plt.close(\"all\")"
   ]
  },
  {
   "cell_type": "code",
   "execution_count": 5,
   "metadata": {},
   "outputs": [],
   "source": [
    "sound_sano=s.sonido_probando123(datos_sano)\n",
    "sound_crepitancia=s.sonido_probando123(datos_crepitancia)\n",
    "sound_silbancia=s.sonido_probando123(datos_silbancia)"
   ]
  },
  {
   "cell_type": "code",
   "execution_count": 6,
   "metadata": {},
   "outputs": [
    {
     "data": {
      "text/plain": [
       "22050"
      ]
     },
     "execution_count": 6,
     "metadata": {},
     "output_type": "execute_result"
    }
   ],
   "source": [
    "sound_sano[0][1]"
   ]
  },
  {
   "cell_type": "code",
   "execution_count": 7,
   "metadata": {},
   "outputs": [
    {
     "name": "stdout",
     "output_type": "stream",
     "text": [
      "250.0\n",
      "pop_eegfiltnew() - cutoff frequency(ies) (-6 dB): [1125.] Hz\n",
      "\n"
     ]
    },
    {
     "ename": "NameError",
     "evalue": "name 'fkernel' is not defined",
     "output_type": "error",
     "traceback": [
      "\u001b[1;31m---------------------------------------------------------------------------\u001b[0m",
      "\u001b[1;31mNameError\u001b[0m                                 Traceback (most recent call last)",
      "Cell \u001b[1;32mIn[7], line 4\u001b[0m\n\u001b[0;32m      2\u001b[0m fs \u001b[39m=\u001b[39m sr\n\u001b[0;32m      3\u001b[0m \u001b[39m#design\u001b[39;00m\n\u001b[1;32m----> 4\u001b[0m order, lowpass \u001b[39m=\u001b[39m filter_design(fs, locutoff \u001b[39m=\u001b[39;49m \u001b[39m0\u001b[39;49m, hicutoff \u001b[39m=\u001b[39;49m \u001b[39m1000\u001b[39;49m, revfilt \u001b[39m=\u001b[39;49m \u001b[39m0\u001b[39;49m)\n\u001b[0;32m      5\u001b[0m \u001b[39m#plot\u001b[39;00m\n\u001b[0;32m      6\u001b[0m mfreqz(lowpass,\u001b[39m1\u001b[39m,order, fs\u001b[39m/\u001b[39m\u001b[39m2\u001b[39m)\n",
      "File \u001b[1;32md:\\Documentos\\Universidad\\OneDrive - Universidad de Antioquia\\Trabajos u 2023-1\\Bioseñales\\Biosenales_el_regreso\\LinearFIR.py:82\u001b[0m, in \u001b[0;36mfilter_design\u001b[1;34m(srate, locutoff, hicutoff, revfilt)\u001b[0m\n\u001b[0;32m     80\u001b[0m     b \u001b[39m=\u001b[39m firws(filtorder, cutoffArray \u001b[39m/\u001b[39m fNyquist, winArray, filterTypeArray[\u001b[39mlen\u001b[39m(edgeArray) \u001b[39m-\u001b[39m \u001b[39m1\u001b[39m]);\n\u001b[0;32m     81\u001b[0m \u001b[39melse\u001b[39;00m:\n\u001b[1;32m---> 82\u001b[0m     b \u001b[39m=\u001b[39m firws(filtorder, cutoffArray \u001b[39m/\u001b[39;49m fNyquist, winArray);\n\u001b[0;32m     84\u001b[0m \u001b[39mreturn\u001b[39;00m filtorder, b\n",
      "File \u001b[1;32md:\\Documentos\\Universidad\\OneDrive - Universidad de Antioquia\\Trabajos u 2023-1\\Bioseñales\\Biosenales_el_regreso\\LinearFIR.py:20\u001b[0m, in \u001b[0;36mfirws\u001b[1;34m(m, f, w, t)\u001b[0m\n\u001b[0;32m     18\u001b[0m w \u001b[39m=\u001b[39m np\u001b[39m.\u001b[39msqueeze(w)\n\u001b[0;32m     19\u001b[0m \u001b[39mif\u001b[39;00m (f\u001b[39m.\u001b[39mndim \u001b[39m==\u001b[39m \u001b[39m0\u001b[39m): \u001b[39m#low pass\u001b[39;00m\n\u001b[1;32m---> 20\u001b[0m     b \u001b[39m=\u001b[39m fkernel(m, f, w)\n\u001b[0;32m     21\u001b[0m \u001b[39melse\u001b[39;00m:\n\u001b[0;32m     22\u001b[0m     b \u001b[39m=\u001b[39m fkernel(m, f[\u001b[39m0\u001b[39m], w) \u001b[39m#band\u001b[39;00m\n",
      "\u001b[1;31mNameError\u001b[0m: name 'fkernel' is not defined"
     ]
    }
   ],
   "source": [
    "sr=sound_sano[0][1]\n",
    "fs = sr\n",
    "#design\n",
    "order, lowpass = filter_design(fs, locutoff = 0, hicutoff = 1000, revfilt = 0)\n",
    "#plot\n",
    "mfreqz(lowpass,1,order, fs/2)\n",
    "\n",
    "order, highpass = filter_design(fs, locutoff = 100, hicutoff = 0, revfilt = 1)\n",
    "#plot\n",
    "mfreqz(highpass,1,order, fs/2)"
   ]
  }
 ],
 "metadata": {
  "kernelspec": {
   "display_name": "base",
   "language": "python",
   "name": "python3"
  },
  "language_info": {
   "codemirror_mode": {
    "name": "ipython",
    "version": 3
   },
   "file_extension": ".py",
   "mimetype": "text/x-python",
   "name": "python",
   "nbconvert_exporter": "python",
   "pygments_lexer": "ipython3",
   "version": "3.9.16"
  },
  "orig_nbformat": 4
 },
 "nbformat": 4,
 "nbformat_minor": 2
}
