{
 "cells": [
  {
   "attachments": {},
   "cell_type": "markdown",
   "metadata": {},
   "source": [
    "<a href=\"https://githubtocolab.com/Astolfo2332/Biosenales_el_regreso/blob/main/Proyecto_3_los_4GB.ipynb\"\n",
    "    target=\"_parent\"><img src=\"https://colab.research.google.com/assets/colab-badge.svg\" alt=\"Open in Colab\" /></a>"
   ]
  },
  {
   "attachments": {},
   "cell_type": "markdown",
   "metadata": {},
   "source": [
    "# Proyecto 3"
   ]
  },
  {
   "attachments": {},
   "cell_type": "markdown",
   "metadata": {},
   "source": [
    "4 GB de audio no es nada"
   ]
  },
  {
   "attachments": {},
   "cell_type": "markdown",
   "metadata": {},
   "source": [
    "## Descarga de Kaggel"
   ]
  },
  {
   "attachments": {},
   "cell_type": "markdown",
   "metadata": {},
   "source": [
    "Aqui mete el json de kaggle"
   ]
  },
  {
   "cell_type": "code",
   "execution_count": null,
   "metadata": {},
   "outputs": [],
   "source": [
    "from google.colab import files\n",
    "\n",
    "files.upload()\n"
   ]
  },
  {
   "cell_type": "code",
   "execution_count": null,
   "metadata": {},
   "outputs": [],
   "source": [
    "!mkdir - p ~/.kaggle\n",
    "!cp kaggle.json ~/.kaggle/\n",
    "'chmod 600 /root/.kaggle/kaggle.json'  # Para proteger la información\n"
   ]
  },
  {
   "cell_type": "code",
   "execution_count": null,
   "metadata": {},
   "outputs": [],
   "source": [
    "!kaggle datasets download -d vbookshelf/respiratory-sound-database\n",
    "! unzip respiratory-sound-database.zip\n"
   ]
  },
  {
   "attachments": {},
   "cell_type": "markdown",
   "metadata": {},
   "source": [
    "La mousque herramienta misteriosa"
   ]
  },
  {
   "cell_type": "code",
   "execution_count": null,
   "metadata": {},
   "outputs": [],
   "source": [
    "!wget https://raw.githubusercontent.com/Astolfo2332/Biosenales_el_regreso/main/special_fun.py"
   ]
  },
  {
   "attachments": {},
   "cell_type": "markdown",
   "metadata": {},
   "source": [
    "\n",
    "# 1 El análisis"
   ]
  },
  {
   "cell_type": "code",
   "execution_count": 1,
   "metadata": {},
   "outputs": [],
   "source": [
    "import matplotlib.pyplot as plt\n",
    "import librosa\n",
    "import pywt\n",
    "import librosa.display\n",
    "import scipy as sp\n",
    "import numpy as np\n",
    "from csv import reader as reader_csv;\n",
    "import scipy.signal as signal\n",
    "import spacy\n",
    "import scipy.io as sio\n",
    "import scipy.stats as stats\n",
    "from sympy import symbols\n",
    "import os\n",
    "import sympy as sym\n",
    "import pandas as pd\n",
    "from statsmodels.stats.diagnostic import lilliefors\n",
    "from scipy.stats import mannwhitneyu\n",
    "from scipy.stats import levene\n",
    "import pingouin as pg\n",
    "import special_fun as s\n",
    "from scipy.signal import kaiserord, lfilter, firwin, freqz\n"
   ]
  },
  {
   "attachments": {},
   "cell_type": "markdown",
   "metadata": {},
   "source": [
    "## 1.1 Carga"
   ]
  },
  {
   "cell_type": "code",
   "execution_count": 2,
   "metadata": {},
   "outputs": [],
   "source": [
    "ruta_carpeta = './Data/audio_and_txt_files'\n",
    "#Si es en colab\n",
    "#ruta_carpeta = \"/content/respiratory_sound_database/Respiratory_Sound_Database/audio_and_txt_files\" \n",
    "lista_archivos = os.listdir(ruta_carpeta)\n",
    "datos_sano,datos_crepitancia,datos_silbancia=s.el_discriminador(lista_archivos,ruta_carpeta)"
   ]
  },
  {
   "cell_type": "code",
   "execution_count": 3,
   "metadata": {},
   "outputs": [
    {
     "name": "stdout",
     "output_type": "stream",
     "text": [
      "Pacientes sanos:  714\n",
      "Pacientes silbancias:  499\n",
      "Pacientes crepitancias:  336\n"
     ]
    }
   ],
   "source": [
    "print(\"Pacientes con ciclos sanos: \",len(datos_sano))\n",
    "print(\"Pacientes con ciclos silbancias: \",len(datos_crepitancia))\n",
    "print(\"Pacientes con ciclos crepitancias: \",len(datos_silbancia))"
   ]
  },
  {
   "attachments": {},
   "cell_type": "markdown",
   "metadata": {},
   "source": [
    "## Obtención de los audios"
   ]
  },
  {
   "cell_type": "code",
   "execution_count": 4,
   "metadata": {},
   "outputs": [],
   "source": [
    "datos=s.sonido_probando123(lista_archivos,ruta_carpeta)"
   ]
  },
  {
   "attachments": {},
   "cell_type": "markdown",
   "metadata": {},
   "source": [
    "# Generación de espectros"
   ]
  },
  {
   "cell_type": "code",
   "execution_count": 22,
   "metadata": {},
   "outputs": [],
   "source": [
    "def el_discriminador_2(datos,datos_sano,datos_crepitancia,datos_silbancia):\n",
    "    \"\"\"El regreso de donde estan los archivos?\"\"\"\n",
    "    sano_list=[]\n",
    "    crackles_list=[]\n",
    "    wheezes_list=[]\n",
    "    def to_n(sr,t):\n",
    "        return (t*sr//1).astype(int)\n",
    "    def el_agregador(y,sr,dic,lallave):\n",
    "        b=[]\n",
    "        a=dic[lallave]\n",
    "        a=to_n(sr,a)\n",
    "        for i in a:\n",
    "            _,x=s.welch_a([y[i[0]:i[1]],sr],[0.025,0.0125])\n",
    "            b.append(x)\n",
    "        return b\n",
    "    las_llaves=list(datos.keys())\n",
    "    for i in las_llaves:\n",
    "        y=datos[i]\n",
    "        y,sr=s.muchos_datos(y)\n",
    "        if i in datos_sano:\n",
    "            sano_list.append(el_agregador(y,sr,datos_sano,i))\n",
    "        if i in datos_crepitancia:    \n",
    "            crackles_list.append(el_agregador(y,sr,datos_crepitancia,i))\n",
    "        if i in datos_silbancia:    \n",
    "            wheezes_list.append(el_agregador(y,sr,datos_silbancia,i))\n",
    "    return sano_list,crackles_list,wheezes_list\n",
    "            "
   ]
  },
  {
   "cell_type": "code",
   "execution_count": 23,
   "metadata": {},
   "outputs": [],
   "source": [
    "sano_list,crackles_list,wheezes_list=s.el_discriminador_2(datos,datos_sano,datos_crepitancia,datos_silbancia)"
   ]
  },
  {
   "cell_type": "code",
   "execution_count": 40,
   "metadata": {},
   "outputs": [
    {
     "name": "stderr",
     "output_type": "stream",
     "text": [
      "c:\\Users\\MIGUEL\\anaconda3\\lib\\site-packages\\numpy\\core\\_methods.py:164: VisibleDeprecationWarning: Creating an ndarray from ragged nested sequences (which is a list-or-tuple of lists-or-tuples-or ndarrays with different lengths or shapes) is deprecated. If you meant to do this, you must specify 'dtype=object' when creating the ndarray.\n",
      "  arr = asanyarray(a)\n"
     ]
    },
    {
     "ename": "ValueError",
     "evalue": "operands could not be broadcast together with shapes (150,) (516,) ",
     "output_type": "error",
     "traceback": [
      "\u001b[1;31m---------------------------------------------------------------------------\u001b[0m",
      "\u001b[1;31mValueError\u001b[0m                                Traceback (most recent call last)",
      "Cell \u001b[1;32mIn[40], line 2\u001b[0m\n\u001b[0;32m      1\u001b[0m \u001b[39mfor\u001b[39;00m i \u001b[39min\u001b[39;00m sano_list:\n\u001b[1;32m----> 2\u001b[0m     np\u001b[39m.\u001b[39;49mmean(i)\n",
      "File \u001b[1;32m<__array_function__ internals>:180\u001b[0m, in \u001b[0;36mmean\u001b[1;34m(*args, **kwargs)\u001b[0m\n",
      "File \u001b[1;32mc:\\Users\\MIGUEL\\anaconda3\\lib\\site-packages\\numpy\\core\\fromnumeric.py:3432\u001b[0m, in \u001b[0;36mmean\u001b[1;34m(a, axis, dtype, out, keepdims, where)\u001b[0m\n\u001b[0;32m   3429\u001b[0m     \u001b[39melse\u001b[39;00m:\n\u001b[0;32m   3430\u001b[0m         \u001b[39mreturn\u001b[39;00m mean(axis\u001b[39m=\u001b[39maxis, dtype\u001b[39m=\u001b[39mdtype, out\u001b[39m=\u001b[39mout, \u001b[39m*\u001b[39m\u001b[39m*\u001b[39mkwargs)\n\u001b[1;32m-> 3432\u001b[0m \u001b[39mreturn\u001b[39;00m _methods\u001b[39m.\u001b[39m_mean(a, axis\u001b[39m=\u001b[39maxis, dtype\u001b[39m=\u001b[39mdtype,\n\u001b[0;32m   3433\u001b[0m                       out\u001b[39m=\u001b[39mout, \u001b[39m*\u001b[39m\u001b[39m*\u001b[39mkwargs)\n",
      "File \u001b[1;32mc:\\Users\\MIGUEL\\anaconda3\\lib\\site-packages\\numpy\\core\\_methods.py:180\u001b[0m, in \u001b[0;36m_mean\u001b[1;34m(a, axis, dtype, out, keepdims, where)\u001b[0m\n\u001b[0;32m    177\u001b[0m         dtype \u001b[39m=\u001b[39m mu\u001b[39m.\u001b[39mdtype(\u001b[39m'\u001b[39m\u001b[39mf4\u001b[39m\u001b[39m'\u001b[39m)\n\u001b[0;32m    178\u001b[0m         is_float16_result \u001b[39m=\u001b[39m \u001b[39mTrue\u001b[39;00m\n\u001b[1;32m--> 180\u001b[0m ret \u001b[39m=\u001b[39m umr_sum(arr, axis, dtype, out, keepdims, where\u001b[39m=\u001b[39;49mwhere)\n\u001b[0;32m    181\u001b[0m \u001b[39mif\u001b[39;00m \u001b[39misinstance\u001b[39m(ret, mu\u001b[39m.\u001b[39mndarray):\n\u001b[0;32m    182\u001b[0m     ret \u001b[39m=\u001b[39m um\u001b[39m.\u001b[39mtrue_divide(\n\u001b[0;32m    183\u001b[0m             ret, rcount, out\u001b[39m=\u001b[39mret, casting\u001b[39m=\u001b[39m\u001b[39m'\u001b[39m\u001b[39munsafe\u001b[39m\u001b[39m'\u001b[39m, subok\u001b[39m=\u001b[39m\u001b[39mFalse\u001b[39;00m)\n",
      "\u001b[1;31mValueError\u001b[0m: operands could not be broadcast together with shapes (150,) (516,) "
     ]
    }
   ],
   "source": [
    "for i in sano_list:\n",
    "    np.mean(i)"
   ]
  }
 ],
 "metadata": {
  "kernelspec": {
   "display_name": "base",
   "language": "python",
   "name": "python3"
  },
  "language_info": {
   "codemirror_mode": {
    "name": "ipython",
    "version": 3
   },
   "file_extension": ".py",
   "mimetype": "text/x-python",
   "name": "python",
   "nbconvert_exporter": "python",
   "pygments_lexer": "ipython3",
   "version": "3.9.16"
  },
  "orig_nbformat": 4
 },
 "nbformat": 4,
 "nbformat_minor": 2
}
