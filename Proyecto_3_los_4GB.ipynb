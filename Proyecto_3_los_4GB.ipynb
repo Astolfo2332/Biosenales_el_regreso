{
 "cells": [
  {
   "attachments": {},
   "cell_type": "markdown",
   "metadata": {},
   "source": [
    "<a href=\"https://githubtocolab.com/Astolfo2332/Biosenales_el_regreso/blob/main/Proyecto_3_los_4GB.ipynb\"\n",
    "    target=\"_parent\"><img src=\"https://colab.research.google.com/assets/colab-badge.svg\" alt=\"Open in Colab\" /></a>"
   ]
  },
  {
   "attachments": {},
   "cell_type": "markdown",
   "metadata": {},
   "source": [
    "# Proyecto 3"
   ]
  },
  {
   "attachments": {},
   "cell_type": "markdown",
   "metadata": {},
   "source": [
    "4 GB de audio no es nada"
   ]
  },
  {
   "attachments": {},
   "cell_type": "markdown",
   "metadata": {},
   "source": [
    "## Descarga de Kaggel"
   ]
  },
  {
   "attachments": {},
   "cell_type": "markdown",
   "metadata": {},
   "source": [
    "Aqui mete el json de kaggle"
   ]
  },
  {
   "cell_type": "code",
   "execution_count": null,
   "metadata": {},
   "outputs": [],
   "source": [
    "from google.colab import files\n",
    "\n",
    "files.upload()\n"
   ]
  },
  {
   "cell_type": "code",
   "execution_count": null,
   "metadata": {},
   "outputs": [],
   "source": [
    "!mkdir - p ~/.kaggle\n",
    "!cp kaggle.json ~/.kaggle/\n",
    "'chmod 600 /root/.kaggle/kaggle.json'  # Para proteger la información\n"
   ]
  },
  {
   "cell_type": "code",
   "execution_count": null,
   "metadata": {},
   "outputs": [],
   "source": [
    "!kaggle datasets download -d vbookshelf/respiratory-sound-database\n",
    "! unzip respiratory-sound-database.zip\n"
   ]
  },
  {
   "attachments": {},
   "cell_type": "markdown",
   "metadata": {},
   "source": [
    "La mousque herramienta misteriosa"
   ]
  },
  {
   "cell_type": "code",
   "execution_count": null,
   "metadata": {},
   "outputs": [],
   "source": [
    "!wget https://raw.githubusercontent.com/Astolfo2332/Biosenales_el_regreso/main/special_fun.py\n",
    "!wget https://raw.githubusercontent.com/Astolfo2332/Biosenales_el_regreso/main/LinearFIR.py"
   ]
  },
  {
   "attachments": {},
   "cell_type": "markdown",
   "metadata": {},
   "source": [
    "\n",
    "# 1 El análisis"
   ]
  },
  {
   "cell_type": "code",
   "execution_count": 1,
   "metadata": {},
   "outputs": [],
   "source": [
    "import librosa\n",
    "import pywt\n",
    "import librosa.display\n",
    "import scipy as sp\n",
    "import numpy as np\n",
    "#libreria para graficar\n",
    "import matplotlib.pyplot as plt\n",
    "#Lector de archivos csv\n",
    "from csv import reader as reader_csv;\n",
    "import scipy.signal as signal;\n",
    "import spacy\n",
    "import scipy.io as sio\n",
    "import scipy.stats as stats\n",
    "from sympy import symbols\n",
    "import os\n",
    "import sympy as sym\n",
    "import pandas as pd\n",
    "from statsmodels.stats.diagnostic import lilliefors\n",
    "from scipy.stats import mannwhitneyu\n",
    "from scipy.stats import levene\n",
    "import pingouin as pg\n",
    "import special_fun as s\n",
    "from LinearFIR import filter_design, mfreqz"
   ]
  },
  {
   "attachments": {},
   "cell_type": "markdown",
   "metadata": {},
   "source": [
    "## 1.1 Carga"
   ]
  },
  {
   "cell_type": "code",
   "execution_count": 2,
   "metadata": {},
   "outputs": [],
   "source": [
    "ruta_carpeta = './Data/audio_and_txt_files'\n",
    "#Si es en colab\n",
    "#ruta_carpeta = \"/content/respiratory_sound_database/Respiratory_Sound_Database/audio_and_txt_files\" \n",
    "lista_archivos = os.listdir(ruta_carpeta)\n",
    "datos_sano,datos_crepitancia,datos_silbancia=s.el_discriminador(lista_archivos,ruta_carpeta)"
   ]
  },
  {
   "cell_type": "code",
   "execution_count": 3,
   "metadata": {},
   "outputs": [
    {
     "name": "stdout",
     "output_type": "stream",
     "text": [
      "Pacientes sanos:  287\n",
      "Pacientes silbancias:  499\n",
      "Pacientes crepitancias:  134\n"
     ]
    }
   ],
   "source": [
    "print(\"Pacientes sanos: \",len(datos_sano))\n",
    "print(\"Pacientes silbancias: \",len(datos_crepitancia))\n",
    "print(\"Pacientes crepitancias: \",len(datos_silbancia))"
   ]
  },
  {
   "attachments": {},
   "cell_type": "markdown",
   "metadata": {},
   "source": [
    "## Obtención de los audios"
   ]
  },
  {
   "cell_type": "code",
   "execution_count": 25,
   "metadata": {},
   "outputs": [],
   "source": [
    "plt.close(\"all\")"
   ]
  },
  {
   "cell_type": "code",
   "execution_count": 5,
   "metadata": {},
   "outputs": [],
   "source": [
    "sound_sano=s.sonido_probando123(datos_sano)\n",
    "sound_crepitancia=s.sonido_probando123(datos_crepitancia)\n",
    "sound_silbancia=s.sonido_probando123(datos_silbancia)"
   ]
  },
  {
   "cell_type": "code",
   "execution_count": 23,
   "metadata": {},
   "outputs": [
    {
     "name": "stdout",
     "output_type": "stream",
     "text": [
      "250.0\n",
      "pop_eegfiltnew() - cutoff frequency(ies) (-6 dB): [1125.] Hz\n",
      "\n"
     ]
    },
    {
     "ename": "AttributeError",
     "evalue": "module 'matplotlib' has no attribute 'axes'",
     "output_type": "error",
     "traceback": [
      "\u001b[1;31m---------------------------------------------------------------------------\u001b[0m",
      "\u001b[1;31mAttributeError\u001b[0m                            Traceback (most recent call last)",
      "Cell \u001b[1;32mIn[23], line 5\u001b[0m\n\u001b[0;32m      3\u001b[0m order, lowpass \u001b[39m=\u001b[39m filter_design(fs, locutoff \u001b[39m=\u001b[39m \u001b[39m0\u001b[39m, hicutoff \u001b[39m=\u001b[39m \u001b[39m1000\u001b[39m, revfilt \u001b[39m=\u001b[39m \u001b[39m0\u001b[39m)\n\u001b[0;32m      4\u001b[0m \u001b[39m#plot\u001b[39;00m\n\u001b[1;32m----> 5\u001b[0m mfreqz(lowpass,\u001b[39m1\u001b[39;49m,order, fs\u001b[39m/\u001b[39;49m\u001b[39m2\u001b[39;49m);\n\u001b[0;32m      7\u001b[0m order, highpass \u001b[39m=\u001b[39m filter_design(fs, locutoff \u001b[39m=\u001b[39m \u001b[39m100\u001b[39m, hicutoff \u001b[39m=\u001b[39m \u001b[39m0\u001b[39m, revfilt \u001b[39m=\u001b[39m \u001b[39m1\u001b[39m)\n\u001b[0;32m      8\u001b[0m \u001b[39m#plot\u001b[39;00m\n",
      "File \u001b[1;32md:\\Documentos\\Universidad\\OneDrive - Universidad de Antioquia\\Trabajos u 2023-1\\Bioseñales\\Biosenales_el_regreso\\LinearFIR.py:120\u001b[0m, in \u001b[0;36mmfreqz\u001b[1;34m(b, a, order, nyq_rate)\u001b[0m\n\u001b[0;32m    117\u001b[0m h_dB \u001b[39m=\u001b[39m \u001b[39m20\u001b[39m \u001b[39m*\u001b[39m np\u001b[39m.\u001b[39mlog10 (\u001b[39mabs\u001b[39m(h));\n\u001b[0;32m    119\u001b[0m plt\u001b[39m.\u001b[39mfigure();\n\u001b[1;32m--> 120\u001b[0m plt\u001b[39m.\u001b[39;49msubplot(\u001b[39m311\u001b[39;49m);\n\u001b[0;32m    121\u001b[0m plt\u001b[39m.\u001b[39mplot((w\u001b[39m/\u001b[39m\u001b[39mmax\u001b[39m(w))\u001b[39m*\u001b[39mnyq_rate,\u001b[39mabs\u001b[39m(h));\n\u001b[0;32m    122\u001b[0m plt\u001b[39m.\u001b[39mylabel(\u001b[39m'\u001b[39m\u001b[39mMagnitude\u001b[39m\u001b[39m'\u001b[39m);\n",
      "File \u001b[1;32mc:\\Users\\MIGUEL\\anaconda3\\lib\\site-packages\\matplotlib\\pyplot.py:1338\u001b[0m, in \u001b[0;36msubplot\u001b[1;34m(*args, **kwargs)\u001b[0m\n\u001b[0;32m   1335\u001b[0m             \u001b[39mbreak\u001b[39;00m\n\u001b[0;32m   1336\u001b[0m \u001b[39melse\u001b[39;00m:\n\u001b[0;32m   1337\u001b[0m     \u001b[39m# we have exhausted the known Axes and none match, make a new one!\u001b[39;00m\n\u001b[1;32m-> 1338\u001b[0m     ax \u001b[39m=\u001b[39m fig\u001b[39m.\u001b[39madd_subplot(\u001b[39m*\u001b[39margs, \u001b[39m*\u001b[39m\u001b[39m*\u001b[39mkwargs)\n\u001b[0;32m   1340\u001b[0m fig\u001b[39m.\u001b[39msca(ax)\n\u001b[0;32m   1342\u001b[0m axes_to_delete \u001b[39m=\u001b[39m [other \u001b[39mfor\u001b[39;00m other \u001b[39min\u001b[39;00m fig\u001b[39m.\u001b[39maxes\n\u001b[0;32m   1343\u001b[0m                   \u001b[39mif\u001b[39;00m other \u001b[39m!=\u001b[39m ax \u001b[39mand\u001b[39;00m ax\u001b[39m.\u001b[39mbbox\u001b[39m.\u001b[39mfully_overlaps(other\u001b[39m.\u001b[39mbbox)]\n",
      "File \u001b[1;32mc:\\Users\\MIGUEL\\anaconda3\\lib\\site-packages\\matplotlib\\figure.py:739\u001b[0m, in \u001b[0;36mFigureBase.add_subplot\u001b[1;34m(self, *args, **kwargs)\u001b[0m\n\u001b[0;32m    733\u001b[0m \u001b[39mif\u001b[39;00m \u001b[39m'\u001b[39m\u001b[39mfigure\u001b[39m\u001b[39m'\u001b[39m \u001b[39min\u001b[39;00m kwargs:\n\u001b[0;32m    734\u001b[0m     \u001b[39m# Axes itself allows for a 'figure' kwarg, but since we want to\u001b[39;00m\n\u001b[0;32m    735\u001b[0m     \u001b[39m# bind the created Axes to self, it is not allowed here.\u001b[39;00m\n\u001b[0;32m    736\u001b[0m     \u001b[39mraise\u001b[39;00m _api\u001b[39m.\u001b[39mkwarg_error(\u001b[39m\"\u001b[39m\u001b[39madd_subplot\u001b[39m\u001b[39m\"\u001b[39m, \u001b[39m\"\u001b[39m\u001b[39mfigure\u001b[39m\u001b[39m\"\u001b[39m)\n\u001b[0;32m    738\u001b[0m \u001b[39mif\u001b[39;00m (\u001b[39mlen\u001b[39m(args) \u001b[39m==\u001b[39m \u001b[39m1\u001b[39m\n\u001b[1;32m--> 739\u001b[0m         \u001b[39mand\u001b[39;00m \u001b[39misinstance\u001b[39m(args[\u001b[39m0\u001b[39m], mpl\u001b[39m.\u001b[39;49maxes\u001b[39m.\u001b[39m_base\u001b[39m.\u001b[39m_AxesBase)\n\u001b[0;32m    740\u001b[0m         \u001b[39mand\u001b[39;00m args[\u001b[39m0\u001b[39m]\u001b[39m.\u001b[39mget_subplotspec()):\n\u001b[0;32m    741\u001b[0m     ax \u001b[39m=\u001b[39m args[\u001b[39m0\u001b[39m]\n\u001b[0;32m    742\u001b[0m     key \u001b[39m=\u001b[39m ax\u001b[39m.\u001b[39m_projection_init\n",
      "File \u001b[1;32mc:\\Users\\MIGUEL\\anaconda3\\lib\\site-packages\\matplotlib\\_api\\__init__.py:226\u001b[0m, in \u001b[0;36mcaching_module_getattr.<locals>.__getattr__\u001b[1;34m(name)\u001b[0m\n\u001b[0;32m    224\u001b[0m \u001b[39mif\u001b[39;00m name \u001b[39min\u001b[39;00m props:\n\u001b[0;32m    225\u001b[0m     \u001b[39mreturn\u001b[39;00m props[name]\u001b[39m.\u001b[39m\u001b[39m__get__\u001b[39m(instance)\n\u001b[1;32m--> 226\u001b[0m \u001b[39mraise\u001b[39;00m \u001b[39mAttributeError\u001b[39;00m(\n\u001b[0;32m    227\u001b[0m     \u001b[39mf\u001b[39m\u001b[39m\"\u001b[39m\u001b[39mmodule \u001b[39m\u001b[39m{\u001b[39;00m\u001b[39mcls\u001b[39m\u001b[39m.\u001b[39m\u001b[39m__module__\u001b[39m\u001b[39m!r}\u001b[39;00m\u001b[39m has no attribute \u001b[39m\u001b[39m{\u001b[39;00mname\u001b[39m!r}\u001b[39;00m\u001b[39m\"\u001b[39m)\n",
      "\u001b[1;31mAttributeError\u001b[0m: module 'matplotlib' has no attribute 'axes'"
     ]
    },
    {
     "data": {
      "text/plain": [
       "<Figure size 640x480 with 0 Axes>"
      ]
     },
     "metadata": {},
     "output_type": "display_data"
    },
    {
     "data": {
      "text/plain": [
       "<Figure size 640x480 with 0 Axes>"
      ]
     },
     "metadata": {},
     "output_type": "display_data"
    },
    {
     "data": {
      "text/plain": [
       "<Figure size 640x480 with 0 Axes>"
      ]
     },
     "metadata": {},
     "output_type": "display_data"
    },
    {
     "data": {
      "text/plain": [
       "<Figure size 640x480 with 0 Axes>"
      ]
     },
     "metadata": {},
     "output_type": "display_data"
    },
    {
     "data": {
      "text/plain": [
       "<Figure size 640x480 with 0 Axes>"
      ]
     },
     "metadata": {},
     "output_type": "display_data"
    },
    {
     "data": {
      "text/plain": [
       "<Figure size 640x480 with 0 Axes>"
      ]
     },
     "metadata": {},
     "output_type": "display_data"
    },
    {
     "data": {
      "text/plain": [
       "<Figure size 640x480 with 0 Axes>"
      ]
     },
     "metadata": {},
     "output_type": "display_data"
    },
    {
     "ename": "AttributeError",
     "evalue": "module 'matplotlib' has no attribute 'pyplot'",
     "output_type": "error",
     "traceback": [
      "\u001b[1;31m---------------------------------------------------------------------------\u001b[0m",
      "\u001b[1;31mAttributeError\u001b[0m                            Traceback (most recent call last)",
      "File \u001b[1;32mc:\\Users\\MIGUEL\\anaconda3\\lib\\site-packages\\matplotlib_inline\\backend_inline.py:99\u001b[0m, in \u001b[0;36mshow\u001b[1;34m(close, block)\u001b[0m\n\u001b[0;32m     96\u001b[0m \u001b[39m# only call close('all') if any to close\u001b[39;00m\n\u001b[0;32m     97\u001b[0m \u001b[39m# close triggers gc.collect, which can be slow\u001b[39;00m\n\u001b[0;32m     98\u001b[0m \u001b[39mif\u001b[39;00m close \u001b[39mand\u001b[39;00m Gcf\u001b[39m.\u001b[39mget_all_fig_managers():\n\u001b[1;32m---> 99\u001b[0m     matplotlib\u001b[39m.\u001b[39;49mpyplot\u001b[39m.\u001b[39mclose(\u001b[39m'\u001b[39m\u001b[39mall\u001b[39m\u001b[39m'\u001b[39m)\n",
      "File \u001b[1;32mc:\\Users\\MIGUEL\\anaconda3\\lib\\site-packages\\matplotlib\\_api\\__init__.py:226\u001b[0m, in \u001b[0;36mcaching_module_getattr.<locals>.__getattr__\u001b[1;34m(name)\u001b[0m\n\u001b[0;32m    224\u001b[0m \u001b[39mif\u001b[39;00m name \u001b[39min\u001b[39;00m props:\n\u001b[0;32m    225\u001b[0m     \u001b[39mreturn\u001b[39;00m props[name]\u001b[39m.\u001b[39m\u001b[39m__get__\u001b[39m(instance)\n\u001b[1;32m--> 226\u001b[0m \u001b[39mraise\u001b[39;00m \u001b[39mAttributeError\u001b[39;00m(\n\u001b[0;32m    227\u001b[0m     \u001b[39mf\u001b[39m\u001b[39m\"\u001b[39m\u001b[39mmodule \u001b[39m\u001b[39m{\u001b[39;00m\u001b[39mcls\u001b[39m\u001b[39m.\u001b[39m\u001b[39m__module__\u001b[39m\u001b[39m!r}\u001b[39;00m\u001b[39m has no attribute \u001b[39m\u001b[39m{\u001b[39;00mname\u001b[39m!r}\u001b[39;00m\u001b[39m\"\u001b[39m)\n",
      "\u001b[1;31mAttributeError\u001b[0m: module 'matplotlib' has no attribute 'pyplot'"
     ]
    }
   ],
   "source": [
    "fs = sound_sano[0][1]\n",
    "#design\n",
    "order, lowpass = filter_design(fs, locutoff = 0, hicutoff = 1000, revfilt = 0)\n",
    "#plot\n",
    "mfreqz(lowpass,1,order, fs/2);\n",
    "\n",
    "order, highpass = filter_design(fs, locutoff = 100, hicutoff = 0, revfilt = 1)\n",
    "#plot\n",
    "mfreqz(highpass,1,order, fs/2)"
   ]
  }
 ],
 "metadata": {
  "kernelspec": {
   "display_name": "base",
   "language": "python",
   "name": "python3"
  },
  "language_info": {
   "codemirror_mode": {
    "name": "ipython",
    "version": 3
   },
   "file_extension": ".py",
   "mimetype": "text/x-python",
   "name": "python",
   "nbconvert_exporter": "python",
   "pygments_lexer": "ipython3",
   "version": "3.9.16"
  },
  "orig_nbformat": 4
 },
 "nbformat": 4,
 "nbformat_minor": 2
}
